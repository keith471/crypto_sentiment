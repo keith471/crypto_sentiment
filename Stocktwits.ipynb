{
 "cells": [
  {
   "cell_type": "code",
   "execution_count": 12,
   "metadata": {},
   "outputs": [],
   "source": [
    "import requests\n",
    "from mongoengine import connect\n",
    "from models import Coin, TextSummary, StockTwitsCursor\n"
   ]
  },
  {
   "cell_type": "code",
   "execution_count": 13,
   "metadata": {},
   "outputs": [
    {
     "data": {
      "text/plain": [
       "MongoClient('127.0.0.1', 27017)"
      ]
     },
     "execution_count": 13,
     "metadata": {},
     "output_type": "execute_result"
    }
   ],
   "source": [
    "connect(\n",
    "    db='crypto',\n",
    "    username='frances',\n",
    "    password='thuglife',\n",
    "    host='mongodb://127.0.0.1'\n",
    ")"
   ]
  },
  {
   "cell_type": "code",
   "execution_count": 3,
   "metadata": {},
   "outputs": [],
   "source": [
    "# make sure setup.py was run first\n",
    "btc_coin = Coin.objects(ticker='BTC').first()\n",
    "assert(btc_coin is not None)"
   ]
  },
  {
   "cell_type": "code",
   "execution_count": 4,
   "metadata": {},
   "outputs": [],
   "source": [
    "# lets ignore this for now\n",
    "# st_cursor = StockTwitsCursor.objects().first()\n",
    "# assert(st_cursor is not None)\n",
    "\n",
    "# and just get a dump of the latest 30 messages\n",
    "r = requests.get('https://api.stocktwits.com/api/2/streams/symbol/BTC.json')\n",
    "assert(r.status_code == 200)"
   ]
  },
  {
   "cell_type": "code",
   "execution_count": 7,
   "metadata": {},
   "outputs": [],
   "source": [
    "def save_msg(msg):\n",
    "    TextSummary(\n",
    "        coin=btc_coin,\n",
    "        raw_text=msg['body'],\n",
    "        posted_at=msg['created_at'],\n",
    "    ).save()"
   ]
  },
  {
   "cell_type": "code",
   "execution_count": 14,
   "metadata": {},
   "outputs": [
    {
     "name": "stdout",
     "output_type": "stream",
     "text": [
      "107\n",
      "75\n",
      "142\n",
      "61\n",
      "108\n",
      "127\n",
      "23\n",
      "77\n",
      "92\n",
      "51\n",
      "119\n",
      "139\n",
      "111\n",
      "150\n",
      "140\n",
      "140\n",
      "67\n",
      "176\n",
      "78\n",
      "78\n",
      "53\n",
      "146\n",
      "140\n",
      "146\n",
      "145\n",
      "117\n",
      "119\n",
      "164\n",
      "149\n",
      "154\n"
     ]
    }
   ],
   "source": [
    "for msg in r.json()['messages']:\n",
    "    save_msg(msg)"
   ]
  },
  {
   "cell_type": "code",
   "execution_count": 20,
   "metadata": {},
   "outputs": [
    {
     "data": {
      "text/plain": [
       "['$BTC (Bitcoin Price Index) model performer with 49.12% gains in the last 1 month http://bit.ly/1GPj2hm #BTC',\n",
       " '$BTC (Bitcoin Price Index) model performer with 49.12% gains in the last 1 month http://bit.ly/1GPj2hm #BTC',\n",
       " '$BTC making waves at 43.82% above its 3-month MA http://bit.ly/1GPj2hm #BTC',\n",
       " 'Stay In The House and Trade Bitcoin - Your future self will love you for it | Deep House | $BTC #Bitcoin #trading https://youtu.be/orWFnPIThxQ',\n",
       " 'As expected, $BTC found support at latest parabolic fan line.',\n",
       " '$BTC Is it a good time to start Trading? What do you guys think? https://www.youtube.com/watch?v=V63eNhRZOZc',\n",
       " '$BTC.XHolding 5950 opens up HoD re-test, above that I&#39;m targeting 6350-6400. Clearly each floor needs to hold, to continue.',\n",
       " '$BCH.X is the next $BTC',\n",
       " '$BTC/USD chart https://www.coinigy.com/s/i/59f505fe76e53/ $BTC.X via @coinigy',\n",
       " '$ETHUSD $BTC $ETH $CRYPTO . if you see Any upside spike\\nwait to reverse down\\nand short below',\n",
       " '$BTCUSD $BTC  $CRYPTO  Contracting  . hard to trade',\n",
       " '$BTCUSD $BTC CORRECTION?. It looks to me that $BTC wants some correction. It might drag other cryptos too e.g $LTC $ETH',\n",
       " '$btc, $btc/usd, $gbtc Bitcoin Prices Fall Back Below $6,000 as Consolidation Continues http://tradinggods.net/trading-gods-blog/bitcoin-pri',\n",
       " 'The Intersection: Crypto and Wall Street This Week - $BTC - http://thefly.com/permalinks/entry.php/BTCid2630952',\n",
       " 'If you want copy of our crypto $BTC $XBTUSD 100x lev P/L, will be emailing it to everyone on email list monthly.  https://compoundtrading.com/contact/',\n",
       " 'Well... done $BTC model $XBTUSD 100x lev trading. Model says 100% a month is realistic (compound). Will release P/L copy as we go Nov 1 fwd.',\n",
       " '$BTC $XTBUSD Expect it to be sloppy trading until mining starts on Nov 1 - we&#39;ll see. Took my first loss on trader bias vs. using model.',\n",
       " '27 October $BTC.X  $BTC #elliottwave analysis https://goo.gl/HdVRa2']"
      ]
     },
     "execution_count": 20,
     "metadata": {},
     "output_type": "execute_result"
    }
   ],
   "source": [
    "text = [msg.raw_text for msg in TextSummary.objects()]\n",
    "text"
   ]
  },
  {
   "cell_type": "code",
   "execution_count": null,
   "metadata": {},
   "outputs": [],
   "source": []
  }
 ],
 "metadata": {
  "kernelspec": {
   "display_name": "Python 3",
   "language": "python",
   "name": "python3"
  },
  "language_info": {
   "codemirror_mode": {
    "name": "ipython",
    "version": 3
   },
   "file_extension": ".py",
   "mimetype": "text/x-python",
   "name": "python",
   "nbconvert_exporter": "python",
   "pygments_lexer": "ipython3",
   "version": "3.5.2"
  }
 },
 "nbformat": 4,
 "nbformat_minor": 2
}
